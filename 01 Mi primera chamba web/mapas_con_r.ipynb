{
 "cells": [
  {
   "cell_type": "code",
   "execution_count": null,
   "metadata": {},
   "outputs": [],
   "source": [
    "library(pacman)\n",
    "pacman::p_load('sf', 'leaflet')"
   ]
  },
  {
   "cell_type": "code",
   "execution_count": null,
   "metadata": {},
   "outputs": [],
   "source": [
    "# Define las coordenadas de latitud y longitud para los marcadores\n",
    "lat <- c(6.245368, 6.293770, 6.264823)\n",
    "lon <- c(-75.551109, -75.569000, -75.569444)\n",
    "\n",
    "# Define los nombres de los lugares para los marcadores\n",
    "place <- c(\"ITM Fraternidad\", \"ITM Castilla\", \"Universidad de Antioquia\")"
   ]
  },
  {
   "cell_type": "code",
   "execution_count": null,
   "metadata": {},
   "outputs": [],
   "source": [
    "# Define los nombres de los lugares para los marcadores\n",
    "place <- c(\"ITM Fraternidad\", \"ITM Castilla\", \"Universidad de Antioquia\")"
   ]
  },
  {
   "cell_type": "code",
   "execution_count": null,
   "metadata": {},
   "outputs": [],
   "source": [
    "# Convert the data frame to a spatial object using the 'sf' package\n",
    "points <- st_as_sf(df, coords = c(\"lon\", \"lat\"), crs = 4326)"
   ]
  },
  {
   "cell_type": "code",
   "execution_count": null,
   "metadata": {},
   "outputs": [],
   "source": [
    "# Create a leaflet map object and add tiles\n",
    "leaflet(points) %>% \n",
    "    addTiles() %>% \n",
    "    addMarkers(popup = ~ place)"
   ]
  }
 ],
 "metadata": {
  "language_info": {
   "name": "python"
  }
 },
 "nbformat": 4,
 "nbformat_minor": 2
}
