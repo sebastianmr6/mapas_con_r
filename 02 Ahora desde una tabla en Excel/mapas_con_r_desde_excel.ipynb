{
 "cells": [
  {
   "cell_type": "markdown",
   "metadata": {},
   "source": [
    "Cargar y/o instalar las librerías necesarias utilizando pacman.\n",
    "\n",
    "La librería `readxl` es una herramienta de R que permite leer archivos de Excel (.xlsx) y extraer los datos en forma de dataframes. Proporciona funciones sencillas para importar datos de hojas de cálculo de Excel, incluyendo la capacidad de leer hojas específicas y seleccionar rangos de celdas.\n",
    "\n",
    "La librería `sf` (Simple Features) es una librería de R que proporciona una forma sencilla y eficiente de trabajar con datos espaciales. Permite leer, escribir, manipular y visualizar datos geoespaciales, como puntos, líneas y polígonos. Además, ofrece una amplia gama de funciones para realizar operaciones espaciales y análisis geoespacial.\n",
    "\n",
    "La librería `leaflet` es una librería de R que permite crear mapas interactivos y visualizaciones geoespaciales. Utiliza la biblioteca JavaScript Leaflet para generar mapas interactivos en el navegador web. Con `leaflet`, puedes agregar capas de mapas, marcadores, polígonos y líneas, y personalizar la apariencia y el comportamiento de los mapas. Es una herramienta muy útil para visualizar datos geoespaciales de una manera intuitiva y atractiva.\n"
   ]
  },
  {
   "cell_type": "code",
   "execution_count": null,
   "metadata": {},
   "outputs": [],
   "source": [
    "if (!require(pacman)) install.packages(\"pacman\")\n",
    "pacman::p_load(readxl, sf, leaflet)"
   ]
  },
  {
   "cell_type": "markdown",
   "metadata": {},
   "source": [
    "Permitir al usuario elegir el archivo de Excel"
   ]
  },
  {
   "cell_type": "code",
   "execution_count": null,
   "metadata": {},
   "outputs": [],
   "source": [
    "archivo_excel <- file.choose()"
   ]
  },
  {
   "cell_type": "markdown",
   "metadata": {},
   "source": [
    "Leer los datos desde el archivo de Excel seleccionado"
   ]
  },
  {
   "cell_type": "code",
   "execution_count": null,
   "metadata": {},
   "outputs": [],
   "source": [
    "df <- read_excel(archivo_excel, sheet = \"Medellín\")"
   ]
  },
  {
   "cell_type": "markdown",
   "metadata": {},
   "source": [
    "Asegúrase de que las columnas de tu archivo Excel se llamen 'lon', 'lat' y 'place' <br>\n",
    "Convertir el dataframe a un objeto sf"
   ]
  },
  {
   "cell_type": "markdown",
   "metadata": {},
   "source": []
  },
  {
   "cell_type": "code",
   "execution_count": null,
   "metadata": {},
   "outputs": [],
   "source": [
    "points <- st_as_sf(df, coords = c(\"lon\", \"lat\"), crs = 4326)"
   ]
  },
  {
   "cell_type": "markdown",
   "metadata": {},
   "source": [
    "Crear el mapa web con leaflet"
   ]
  },
  {
   "cell_type": "code",
   "execution_count": null,
   "metadata": {},
   "outputs": [],
   "source": [
    "leaflet(points) %>% addTiles() %>% addMarkers(popup = ~place)"
   ]
  }
 ],
 "metadata": {
  "language_info": {
   "name": "python"
  }
 },
 "nbformat": 4,
 "nbformat_minor": 2
}
