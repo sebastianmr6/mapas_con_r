{
 "cells": [
  {
   "cell_type": "markdown",
   "metadata": {},
   "source": [
    "Importa la librería 'pacman' para poder usar la función 'pacman' que permite instalar paquetes de R."
   ]
  },
  {
   "cell_type": "code",
   "execution_count": null,
   "metadata": {},
   "outputs": [],
   "source": [
    "library(pacman)\n",
    "pacman::p_load('sf', 'leaflet')"
   ]
  },
  {
   "cell_type": "markdown",
   "metadata": {},
   "source": [
    "Define las coordenadas de latitud y longitud para los marcadores"
   ]
  },
  {
   "cell_type": "code",
   "execution_count": null,
   "metadata": {},
   "outputs": [],
   "source": [
    "lat <- c(6.245368, 6.293770, 6.264823)\n",
    "lon <- c(-75.551109, -75.569000, -75.569444)"
   ]
  },
  {
   "cell_type": "markdown",
   "metadata": {},
   "source": [
    "Define los nombres de los lugares para los marcadores"
   ]
  },
  {
   "cell_type": "code",
   "execution_count": null,
   "metadata": {},
   "outputs": [],
   "source": [
    "place <- c(\"ITM Fraternidad\", \"ITM Castilla\", \"Universidad de Antioquia\")"
   ]
  },
  {
   "cell_type": "markdown",
   "metadata": {},
   "source": [
    "Convierte las coordenadas de latitud y longitud a un data fram"
   ]
  },
  {
   "cell_type": "code",
   "execution_count": null,
   "metadata": {},
   "outputs": [],
   "source": [
    "df <- data.frame(lat, lon, place, stringAsFactors = FALSE)"
   ]
  },
  {
   "cell_type": "markdown",
   "metadata": {},
   "source": [
    "Convierte el data frame a un objeto espacial usando la librería 'sf'"
   ]
  },
  {
   "cell_type": "code",
   "execution_count": null,
   "metadata": {},
   "outputs": [],
   "source": [
    "points <- st_as_sf(df, coords = c(\"lon\", \"lat\"), crs = 4326)"
   ]
  },
  {
   "cell_type": "markdown",
   "metadata": {},
   "source": [
    "Crea un mapa con leaflet y agrega los marcadores"
   ]
  },
  {
   "cell_type": "code",
   "execution_count": null,
   "metadata": {},
   "outputs": [],
   "source": [
    "leaflet(points) %>% \n",
    "    addTiles() %>% \n",
    "    addMarkers(popup = ~ place)"
   ]
  }
 ],
 "metadata": {
  "language_info": {
   "name": "python"
  }
 },
 "nbformat": 4,
 "nbformat_minor": 2
}
